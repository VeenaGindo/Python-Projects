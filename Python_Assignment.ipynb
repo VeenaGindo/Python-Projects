{
 "cells": [
  {
   "cell_type": "markdown",
   "metadata": {
    "id": "l0ZzOlyxB-kf"
   },
   "source": [
    "<h1>Python: without numpy or sklearn </h1>"
   ]
  },
  {
   "cell_type": "markdown",
   "metadata": {
    "id": "C0xO8JV9B-ki"
   },
   "source": [
    "<h3> Q1: Given two matrices please print the product of those two matrices </h3>\n",
    "<pre>\n",
    "\n",
    "Ex 1: A   = [[1 3 4]\n",
    "             [2 5 7]\n",
    "             [5 9 6]]\n",
    "      B   = [[1 0 0]\n",
    "             [0 1 0]\n",
    "             [0 0 1]]\n",
    "      A*B = [[1 3 4]\n",
    "             [2 5 7]\n",
    "             [5 9 6]]\n",
    "\n",
    "     \n",
    "Ex 2: A   = [[1 2]\n",
    "             [3 4]]\n",
    "      B   = [[1 2 3 4 5]\n",
    "             [5 6 7 8 9]]\n",
    "      A*B = [[11 14 17 20 23]\n",
    "             [23 30 37 44 51]]\n",
    "             \n",
    "Ex 3: A   = [[1 2]\n",
    "             [3 4]]\n",
    "      B   = [[1 4]\n",
    "             [5 6]\n",
    "             [7 8]\n",
    "             [9 6]]\n",
    "      A*B =Not possible\n",
    "</pre>"
   ]
  },
  {
   "cell_type": "code",
   "execution_count": 57,
   "metadata": {
    "colab": {
     "base_uri": "https://localhost:8080/"
    },
    "id": "rnssAfpgB-kj",
    "outputId": "947b6fcf-9104-4c73-8eeb-bc00f60bf34b"
   },
   "outputs": [
    {
     "data": {
      "text/plain": [
       "[[1, 3, 4], [2, 5, 7], [5, 9, 6]]"
      ]
     },
     "execution_count": 57,
     "metadata": {},
     "output_type": "execute_result"
    }
   ],
   "source": [
    "# Input 1\n",
    "A = [[1, 3, 4],\n",
    "     [2, 5, 7],\n",
    "     [5, 9, 6 ]]  \n",
    "B = [[1, 0, 0],\n",
    "     [0, 1, 0],\n",
    "     [0, 0, 1]]\n",
    "\n",
    "# Input 2\n",
    "'''\n",
    "A = [[1, 2],\n",
    "     [3, 4]]\n",
    "B = [[1, 2, 3, 4, 5],\n",
    "     [5, 6, 7, 8, 9]]\n",
    "'''\n",
    "# Input 3\n",
    "'''\n",
    "A = [[1, 2],\n",
    "     [3, 4]]\n",
    "B = [[1, 4],\n",
    "     [5, 6],\n",
    "     [7, 8],\n",
    "     [9, 6]]\n",
    "'''\n",
    "def matrix_mul(A, B):\n",
    "    \"\"\"\n",
    "        This function will find the product of two matrices\n",
    "    \"\"\"\n",
    "    # A,B : Matrices to be multiplied\n",
    "    # check for feasibility of matrix multiplication\n",
    "    if(len(A[0]) != len(B)):\n",
    "        return \"A*B =Not possible\"\n",
    "    else:\n",
    "    # multiplication feasible. create a resultant matrix\n",
    "        result =[]\n",
    "        for i in range(len(A)):\n",
    "            lst =[]\n",
    "            result.append(lst)\n",
    "            for j in range(len(B[0])):\n",
    "                lst.append(0)\n",
    "    # multiply A and B and put the product to result.\n",
    "        for i in range(len(A)):\n",
    "            for j in range(len(B[0])):\n",
    "                for k in range(len(B)):\n",
    "                    result[i][j] += A[i][k] * B[k][j] \n",
    "        return(result)\n",
    "\n",
    " \n",
    "matrix_mul(A, B)"
   ]
  },
  {
   "cell_type": "markdown",
   "metadata": {
    "id": "at4VwLggB-kn"
   },
   "source": [
    "<h3> Q2: Proportional Sampling - Select a number randomly with probability proportional to its magnitude from the given array of n elements</h3>\n",
    "\n",
    "Consider an experiment, selecting an element from the list A randomly with probability proportional to its magnitude.\n",
    "assume we are doing the same experiment for 100 times with replacement, in each experiment you will print a number that is selected randomly from A.\n",
    "\n",
    "<pre>\n",
    "Ex 1: A = [0 5 27 6 13 28 100 45 10 79]\n",
    "let f(x) denote the number of times x getting selected in 100 experiments.\n",
    "f(100) > f(79) > f(45) > f(28) > f(27) > f(13) > f(10) > f(6) > f(5) > f(0)\n",
    "</pre>"
   ]
  },
  {
   "cell_type": "code",
   "execution_count": null,
   "metadata": {
    "id": "B6S2dpBhB-kn"
   },
   "outputs": [],
   "source": [
    "from random import uniform\n",
    "\n",
    "\n",
    "def pick_a_number_from_list(A):\n",
    "    \"\"\"\n",
    "      This function will pick a number from the list A with a probability of its magnitude\n",
    "    \"\"\"\n",
    "    #Compute sum of all elements in the list\n",
    "    sum = 0;\n",
    "    for ele in A: sum += ele\n",
    "    \n",
    "    # Compute normalized Sum\n",
    "    normal_sum =[]\n",
    "    for ele in A:  normal_sum.append(ele/sum)\n",
    "    \n",
    "    # Compute cumulative Sum\n",
    "    cum_sum =[];  tilda =0\n",
    "    for ele in normal_sum:\n",
    "        tilda +=ele  \n",
    "        cum_sum.append(tilda)\n",
    "    # Generate a uniform random variable\n",
    "    r = uniform (0.0,1.0)\n",
    "    for index,num in enumerate(cum_sum):\n",
    "        if(r<= num):\n",
    "            return index\n",
    "\n",
    "def sampling_based_on_magnitude():\n",
    "    A = [0, 5, 27, 6, 13, 28, 100, 45, 10, 79]  \n",
    "    for i in range(1,100):\n",
    "        number = pick_a_number_from_list(A)\n",
    "        print(A[number])\n",
    "\n",
    "sampling_based_on_magnitude()"
   ]
  },
  {
   "cell_type": "markdown",
   "metadata": {
    "id": "D1xQy2WWB-kq"
   },
   "source": [
    "<h3> Q3: Replace the digits in the string with #</h3>\n",
    "\n",
    "consider a string that will have digits in that, we need to remove all the not digits and replace the digits with #\n",
    "<pre>\n",
    "Ex 1: A = 234                Output: ###\n",
    "Ex 2: A = a2b3c4             Output: ###\n",
    "Ex 3: A = abc                Output:   (empty string)\n",
    "Ex 5: A = #2a$#b%c%561#      Output: ####\n",
    "</pre>"
   ]
  },
  {
   "cell_type": "code",
   "execution_count": 59,
   "metadata": {
    "colab": {
     "base_uri": "https://localhost:8080/"
    },
    "id": "fxczi2jzB-kr",
    "outputId": "9c57c45a-844e-434f-82d1-66981de140be"
   },
   "outputs": [
    {
     "name": "stdout",
     "output_type": "stream",
     "text": [
      "Enter the String to be replaced: 33@11\n",
      "####\n"
     ]
    }
   ],
   "source": [
    "import re\n",
    "# String: it will be the input to your program\n",
    "def replace_digits(String):\n",
    "    '''\n",
    "        This function removes all the non digits and replace the digits with # symbol\n",
    "    '''   \n",
    "    digitString = re.sub('\\D', \"\",String)\n",
    "    replacedString = re.sub('[0-9]','#',digitString)\n",
    "    return(replacedString) # modified string which is after replacing the # with digits\n",
    "\n",
    "String = input(\"Enter the String to be replaced: \")\n",
    "print (replace_digits(String))"
   ]
  },
  {
   "cell_type": "markdown",
   "metadata": {
    "id": "j7h0Ywg7B-kw"
   },
   "source": [
    "<h3> Q4: Students marks dashboard</h3>\n",
    "\n",
    "consider the marks list of class students given two lists <br>\n",
    "Students = ['student1','student2','student3','student4','student5','student6','student7','student8','student9','student10'] <br>\n",
    "Marks = [45, 78, 12, 14, 48, 43, 45, 98, 22, 80] <br>\n",
    "from the above two lists the Student[0] got Marks[0],  Student[1] got Marks[1] and so on <br><br>\n",
    "your task is to print the name of students\n",
    "<strong>a. Who got top 5 ranks, in the descending order of marks</strong> <br>\n",
    "<strong>b. Who got least 5 ranks, in the increasing order of marks</strong><br>\n",
    "<strong>d. Who got marks between  &gt;25th percentile &lt;75th percentile, in the increasing order of marks</strong>\n",
    "\n",
    "<pre>\n",
    "Ex 1: \n",
    "Students=['student1','student2','student3','student4','student5','student6','student7','student8','student9','student10'] \n",
    "Marks = [45, 78, 12, 14, 48, 43, 47, 98, 22, 80]\n",
    "a. \n",
    "student8  98\n",
    "student10 80\n",
    "student2  78\n",
    "student5  48\n",
    "student7  47\n",
    "b.\n",
    "student3 12\n",
    "student4 14\n",
    "student9 22\n",
    "student6 43\n",
    "student1 45\n",
    "c.\n",
    "student9 22\n",
    "student6 43\n",
    "student1 45\n",
    "student7 47\n",
    "student5 48\n",
    "</pre>"
   ]
  },
  {
   "cell_type": "code",
   "execution_count": null,
   "metadata": {
    "colab": {
     "base_uri": "https://localhost:8080/"
    },
    "id": "cxPJgItsB-kx",
    "outputId": "b2237d23-9862-4a52-d464-3f88005299a0"
   },
   "outputs": [
    {
     "name": "stdout",
     "output_type": "stream",
     "text": [
      "[('student8', 98), ('student10', 80), ('student2', 78), ('student5', 48), ('student7', 47)]\n",
      "[('student3', 12), ('student4', 14), ('student9', 22), ('student6', 43), ('student1', 45)]\n",
      "[('student9', 22), ('student6', 43), ('student1', 45), ('student7', 47), ('student5', 48)]\n"
     ]
    }
   ],
   "source": [
    "import math\n",
    "\n",
    "def display_dash_board(students, marks):\n",
    "    '''\n",
    "      This function displays the Students Mark Dashboard\n",
    "    '''\n",
    "    student_score =dict(zip(students,marks))\n",
    "        \n",
    "    # compute top 5 students\n",
    "    top_5_students = sorted(student_score.items(), key=lambda x: x[1], reverse=True)[:5]\n",
    "    print (top_5_students)\n",
    "    # compute least 5 students\n",
    "    least_5_students = sorted(student_score.items(), key=lambda x: x[1])[:5]\n",
    "    print (least_5_students)\n",
    "    # compute students between 25th and 75th percentile\n",
    "    percentile_25_75 = list(range(percentile(marks,25), percentile(marks,75)))\n",
    "    students_within_25_and_75 = {k:v for k,v in student_score.items() if v in percentile_25_75}\n",
    "    print (sorted(students_within_25_and_75.items(), key=lambda x: x[1]))\n",
    "        \n",
    "\n",
    "def percentile(data, perc: int):\n",
    "    '''\n",
    "      This function displays the reqiured percentile\n",
    "      courtesy: https://stackoverflow.com/questions/2374640/how-do-i-calculate-percentiles-with-python-numpy\n",
    "    '''  \n",
    "    size = len(data)\n",
    "    return sorted(data)[int(math.ceil((size * perc) / 100)) - 1]\n",
    "\n",
    "Students=['student1','student2','student3','student4','student5','student6','student7','student8','student9','student10'] \n",
    "Marks = [45, 78, 12, 14, 48, 43, 47, 98, 22, 80]\n",
    "display_dash_board(Students, Marks)\n"
   ]
  },
  {
   "cell_type": "markdown",
   "metadata": {
    "id": "qha0OhQHB-k1"
   },
   "source": [
    "<h3> Q5: Find the closest points</h3>\n",
    "\n",
    "Consider you have given n data points in the form of list of tuples like S=[(x1,y1),(x2,y2),(x3,y3),(x4,y4),(x5,y5),..,(xn,yn)] and a point P=(p,q) <br> Your task is to find 5 closest points(based on cosine distance) in S from P\n",
    "<br>Cosine distance between two points (x,y) and (p,q) is defind as $cos^{-1}(\\frac{(x\\cdot p+y\\cdot q)}{\\sqrt(x^2+y^2)\\cdot\\sqrt(p^2+q^2)})$\n",
    "<pre>\n",
    "Ex:\n",
    "\n",
    "S= [(1,2),(3,4),(-1,1),(6,-7),(0, 6),(-5,-8),(-1,-1),(6,0),(1,-1)]\n",
    "P= (3,-4)\n",
    "\n",
    "<img src='https://i.imgur.com/vyZZQGu.png' width=400>\n",
    "\n",
    "Output:\n",
    "(6,-7)\n",
    "(1,-1)\n",
    "(6,0)\n",
    "(-5,-8)\n",
    "(-1,-1)\n",
    "</pre>\n",
    " Hint - If you write the formula correctly you'll get the distance between points (6,-7) and (3,-4) = 0.065"
   ]
  },
  {
   "cell_type": "code",
   "execution_count": null,
   "metadata": {
    "colab": {
     "base_uri": "https://localhost:8080/"
    },
    "id": "wA5I1g-2B-k2",
    "outputId": "9f831be3-900c-4dbc-854b-308f0be985cf"
   },
   "outputs": [
    {
     "name": "stdout",
     "output_type": "stream",
     "text": [
      "[(6, -7), (1, -1), (6, 0), (-5, -8), (-1, -1)]\n"
     ]
    }
   ],
   "source": [
    "import math\n",
    "\n",
    "# S is list of tuples and P is the point\n",
    "def closest_points_to_p(S, P):\n",
    "    '''\n",
    "     This function finds the cosine distance between each points and returns closest 5 points   \n",
    "    '''\n",
    "    dist_dict ={}\n",
    "    for ele in S:\n",
    "        #dist_dict[ele] =spatial.distance.cosine (ele,P)\n",
    "        dotProd = ele[0]*P[0] + ele[1]*P[1]\n",
    "        lengthProd = (math.sqrt(ele[0]**2+ ele[1]**2)) * (math.sqrt(P[0]**2 + P[1]**2))\n",
    "        cosine_distance = math.acos(dotProd/lengthProd)\n",
    "        dist_dict[ele] = cosine_distance\n",
    "    sorted_dist ={k: v for k, v in sorted(dist_dict.items(), key=lambda item: item[1])}\n",
    "    return list(sorted_dist.keys())[:5]    \n",
    "\n",
    "S= [(1,2),(3,4),(-1,1),(6,-7),(0, 6),(-5,-8),(-1,-1),(6,0),(1,-1)]\n",
    "P= (3,-4)\n",
    "points = closest_points_to_p(S, P)\n",
    "print(points) \n"
   ]
  },
  {
   "cell_type": "markdown",
   "metadata": {
    "id": "-g11jeAiB-k5"
   },
   "source": [
    "<h3> Q6: Find Which line separates oranges and apples</h3>\n",
    "consider you have given two set of data points in the form of list of tuples like \n",
    "<pre>\n",
    "Red =[(R11,R12),(R21,R22),(R31,R32),(R41,R42),(R51,R52),..,(Rn1,Rn2)]\n",
    "Blue=[(B11,B12),(B21,B22),(B31,B32),(B41,B42),(B51,B52),..,(Bm1,Bm2)]\n",
    "</pre>\n",
    "and set of line equations(in the string formate, i.e list of strings)\n",
    "<pre>\n",
    "Lines = [a1x+b1y+c1,a2x+b2y+c2,a3x+b3y+c3,a4x+b4y+c4,..,K lines]\n",
    "Note: you need to string parsing here and get the coefficients of x,y and intercept\n",
    "</pre>\n",
    "your task is to for each line that is given print \"YES\"/\"NO\", you will print yes, if all the red points are one side of the line and blue points are other side of the line, otherwise no\n",
    "<pre>\n",
    "Ex:\n",
    "Red= [(1,1),(2,1),(4,2),(2,4), (-1,4)]\n",
    "Blue= [(-2,-1),(-1,-2),(-3,-2),(-3,-1),(1,-3)]\n",
    "Lines=[\"1x+1y+0\",\"1x-1y+0\",\"1x+0y-3\",\"0x+1y-0.5\"]\n",
    "<img src='https://i.imgur.com/mSnQW5K.png' width=400>\n",
    "\n",
    "Output:\n",
    "YES\n",
    "NO\n",
    "NO\n",
    "YES\n",
    "</pre>"
   ]
  },
  {
   "cell_type": "code",
   "execution_count": null,
   "metadata": {
    "colab": {
     "base_uri": "https://localhost:8080/"
    },
    "id": "eRxExaTRB-k6",
    "outputId": "3f71fb44-2547-4cfe-adcc-ae75823560df"
   },
   "outputs": [
    {
     "name": "stdout",
     "output_type": "stream",
     "text": [
      "YES\n",
      "NO\n",
      "NO\n",
      "YES\n"
     ]
    }
   ],
   "source": [
    "import math\n",
    "import re\n",
    "\n",
    "def findResultant(points,coeff):\n",
    "    resultant =[]\n",
    "    for val in points:\n",
    "        result = val[0]*coeff[0]+val[1]*coeff[1]+coeff[2]\n",
    "        if(result == 0): return [] #empty result.Because point is on the line\n",
    "        elif (result<0): resultant.append('0') #indicates result is negative\n",
    "        else : resultant.append('1') #indicates result is positive\n",
    "    return resultant\n",
    "\n",
    "def i_am_the_one(red,blue,line):\n",
    "    #Get x,y and intercept values\n",
    "    result = re.findall(r'[-+]?[\\d\\.\\d]+', line)\n",
    "    lineCoeff = [float(i) for i in result]\n",
    "    blue_resultant=[]\n",
    "    red_resultant = findResultant(red,lineCoeff)\n",
    "    # No need to check for blue points if red points are on the line.\n",
    "    if (len(red_resultant) != 0):\n",
    "        blue_resultant = findResultant(blue,lineCoeff)\n",
    "    \n",
    "    if(len(red_resultant) == 0 or len(blue_resultant) == 0):\n",
    "        return 'NO'\n",
    "    red_set = set(red_resultant)\n",
    "    blue_set = set(blue_resultant)\n",
    "    if(len(red_set) ==1 and len(blue_set) ==1): #set contains either +ve or -ve values(1 or 0)\n",
    "        if(red_set.intersection(blue_set)): return 'NO' #intersection will tell whether both set has the same value\n",
    "        else: return 'YES' #No intersection means points are on opposite sides\n",
    "    else: # set contains both -ve and +ve values \n",
    "        return 'NO'\n",
    "    \n",
    "Red= [(1,1),(2,1),(3,2),(2,4),(-1,4)]\n",
    "Blue= [(-2,-1),(-1,-2),(-3,-2),(-3,-1),(1,-3)]\n",
    "Lines=[\"1x+1y+0\",\"1x-1y+0\",\"1x+0y-3\",\"0x+1y-0.5\"]\n",
    "\n",
    "for i in Lines:\n",
    "    yes_or_no = i_am_the_one(Red, Blue, i)\n",
    "    print(yes_or_no) "
   ]
  },
  {
   "cell_type": "markdown",
   "metadata": {
    "id": "9OBpURbNB-k9"
   },
   "source": [
    "<h3> Q7: Filling the missing values in the specified formate</h3>\n",
    "You will be given a string with digits and '\\_'(missing value) symbols you have to replace the '\\_' symbols as explained \n",
    "<pre>\n",
    "Ex 1: _, _, _, 24 ==> 24/4, 24/4, 24/4, 24/4 i.e we. have distributed the 24 equally to all 4 places <br>\n",
    "Ex 2: 40, _, _, _, 60 ==> (60+40)/5,(60+40)/5,(60+40)/5,(60+40)/5,(60+40)/5 ==> 20, 20, 20, 20, 20 i.e. the sum of (60+40) is distributed qually to all 5 places<br>\n",
    "Ex 3: 80, _, _, _, _  ==> 80/5,80/5,80/5,80/5,80/5 ==> 16, 16, 16, 16, 16 i.e. the 80 is distributed qually to all 5 missing values that are right to it<br>\n",
    "Ex 4: _, _, 30, _, _, _, 50, _, _  \n",
    "==> we will fill the missing values from left to right \n",
    "    a. first we will distribute the 30 to left two missing values (10, 10, 10, _, _, _, 50, _, _)\n",
    "    b. now distribute the sum (10+50) missing values in between (10, 10, 12, 12, 12, 12, 12, _, _) \n",
    "    c. now we will distribute 12 to right side missing values (10, 10, 12, 12, 12, 12, 4, 4, 4)\n",
    "</pre>\n",
    "for a given string with comma seprate values, which will have both missing values numbers like ex: \"_, _, x, _, _, _\"\n",
    "you need fill the missing values\n",
    "\n",
    "Q: your program reads a string like ex: \"_, _, x, _, _, _\" and returns the filled sequence\n",
    "\n",
    "Ex: \n",
    "<pre>\n",
    "Input1: \"_,_,_,24\"\n",
    "Output1: 6,6,6,6\n",
    "\n",
    "Input2: \"40,_,_,_,60\"\n",
    "Output2: 20,20,20,20,20\n",
    "\n",
    "Input3: \"80,_,_,_,_\"\n",
    "Output3: 16,16,16,16,16\n",
    "\n",
    "Input4: \"_,_,30,_,_,_,50,_,_\"\n",
    "Output4: 10,10,12,12,12,12,4,4,4\n",
    "\n",
    "</pre>\n",
    "\n"
   ]
  },
  {
   "cell_type": "code",
   "execution_count": 56,
   "metadata": {
    "colab": {
     "base_uri": "https://localhost:8080/"
    },
    "id": "nZmpzHs_B-k-",
    "outputId": "a2842d3f-f0bc-423e-d938-6d160ca0f577"
   },
   "outputs": [
    {
     "name": "stdout",
     "output_type": "stream",
     "text": [
      "[10, 10, 12, 12, 12, 12, 4, 4, 4]\n"
     ]
    }
   ],
   "source": [
    "def smoothened_list(int_list):\n",
    "    first=0; last=0; count=0\n",
    "    for index,num in enumerate(int_list):\n",
    "        if(index ==0) and (num>0):\n",
    "            first =num    \n",
    "        elif (index >0) and (num>0):\n",
    "            last =num \n",
    "            break\n",
    "        count +=1\n",
    "    if (last == 0) : result = (first+last)/count; count-=1\n",
    "    else: result = (first+last)/(count+1)     \n",
    "    \n",
    "    lst =[]\n",
    "    for i in range(1,count+2):\n",
    "        lst.append(int(result))\n",
    "    return lst\n",
    "    \n",
    "def curve_smoothing(string):\n",
    "    splitedS= string.split(',')\n",
    "    int_list = [int(i) if i!='_' else 0 for i in splitedS]\n",
    "    final_lst =[]\n",
    "    lst = int_list\n",
    "\n",
    "    while(True) :\n",
    "        lst = smoothened_list(lst)\n",
    "        if(len(final_lst)+len(lst) == len(int_list)):\n",
    "            final_lst = final_lst +lst\n",
    "            break;\n",
    "        length = len(lst)\n",
    "        lst.extend(int_list[length+len(final_lst):])\n",
    "        final_lst.extend(lst[ :length-1])\n",
    "        lst = lst[length-1:]\n",
    "\n",
    "    return final_lst\n",
    "\n",
    "S=  \"_,_,30,_,_,_,50,_,_\"\n",
    "smoothed_values= curve_smoothing(S)\n",
    "print(smoothed_values)"
   ]
  },
  {
   "cell_type": "markdown",
   "metadata": {
    "id": "RBz4pzlfB-lB"
   },
   "source": [
    "<h3> Q8: Filling the missing values in the specified formate</h3>\n",
    "You will be given a list of lists, each sublist will be of length 2 i.e. [[x,y],[p,q],[l,m]..[r,s]]\n",
    "consider its like a martrix of n rows and two columns\n",
    "1. the first column F will contain only 5 uniques values (F1, F2, F3, F4, F5)\n",
    "2. the second column S will contain only 3 uniques values (S1, S2, S3)\n",
    "<pre>\n",
    "your task is to find\n",
    "a. Probability of P(F=F1|S==S1), P(F=F1|S==S2), P(F=F1|S==S3)\n",
    "b. Probability of P(F=F2|S==S1), P(F=F2|S==S2), P(F=F2|S==S3)\n",
    "c. Probability of P(F=F3|S==S1), P(F=F3|S==S2), P(F=F3|S==S3)\n",
    "d. Probability of P(F=F4|S==S1), P(F=F4|S==S2), P(F=F4|S==S3)\n",
    "e. Probability of P(F=F5|S==S1), P(F=F5|S==S2), P(F=F5|S==S3)\n",
    "</pre>\n",
    "Ex:\n",
    "\n",
    "<pre>\n",
    "[[F1,S1],[F2,S2],[F3,S3],[F1,S2],[F2,S3],[F3,S2],[F2,S1],[F4,S1],[F4,S3],[F5,S1]]\n",
    "\n",
    "a. P(F=F1|S==S1)=1/4, P(F=F1|S==S2)=1/3, P(F=F1|S==S3)=0/3\n",
    "b. P(F=F2|S==S1)=1/4, P(F=F2|S==S2)=1/3, P(F=F2|S==S3)=1/3\n",
    "c. P(F=F3|S==S1)=0/4, P(F=F3|S==S2)=1/3, P(F=F3|S==S3)=1/3\n",
    "d. P(F=F4|S==S1)=1/4, P(F=F4|S==S2)=0/3, P(F=F4|S==S3)=1/3\n",
    "e. P(F=F5|S==S1)=1/4, P(F=F5|S==S2)=0/3, P(F=F5|S==S3)=0/3\n",
    "</pre>\n",
    "\n",
    "\n"
   ]
  },
  {
   "cell_type": "code",
   "execution_count": null,
   "metadata": {
    "colab": {
     "base_uri": "https://localhost:8080/"
    },
    "id": "e-1giz1MB-lC",
    "outputId": "ff0e4e98-5ae7-4b67-9937-ae04340b0df4"
   },
   "outputs": [
    {
     "name": "stdout",
     "output_type": "stream",
     "text": [
      "P(F=F1|S==S1)= 1/4\n",
      "P(F=F1|S==S2)= 1/3\n",
      "P(F=F1|S==S3)= 0/3\n",
      "P(F=F5|S==S1)= 1/4\n",
      "P(F=F5|S==S2)= 0/3\n",
      "P(F=F5|S==S3)= 0/3\n",
      "P(F=F2|S==S1)= 1/4\n",
      "P(F=F2|S==S2)= 1/3\n",
      "P(F=F2|S==S3)= 1/3\n",
      "P(F=F4|S==S1)= 1/4\n",
      "P(F=F4|S==S2)= 0/3\n",
      "P(F=F4|S==S3)= 1/3\n",
      "P(F=F3|S==S1)= 0/4\n",
      "P(F=F3|S==S2)= 1/3\n",
      "P(F=F3|S==S3)= 1/3\n"
     ]
    }
   ],
   "source": [
    "# write your python code here\n",
    "# you can take the above example as sample input for your program to test\n",
    "# it should work for any general input try not to hard code for only given input strings. Do not write 15 print statements.\n",
    "# you can use nested loops or dictionaries to write your code\n",
    "\n",
    "\n",
    "# you can free to change all these codes/structure\n",
    "def compute_conditional_probabilites(A):\n",
    "    '''\n",
    "    This function prints the conditional probability\n",
    "    '''\n",
    "    Fdistinct = set()\n",
    "    Sdict ={}\n",
    "    for i in A:\n",
    "        Fdistinct.add(i[0])\n",
    "        if(i[1] in Sdict.keys()):\n",
    "            Sdict[i[1]] = Sdict[i[1]] +1\n",
    "        else:\n",
    "            Sdict[i[1]] = 1  \n",
    "\n",
    "    for i in Fdistinct:\n",
    "        for k,v in Sdict.items():\n",
    "            count =0\n",
    "            for ele in A:\n",
    "                if (ele[0] == i and ele[1]== k): count =count+1  \n",
    "            print(\"P(F={}|S=={})= {}/{}\".format(i,k,count,v))\n",
    "\n",
    "A = [['F1','S1'],['F2','S2'],['F3','S3'],['F1','S2'],['F2','S3'],['F3','S2'],['F2','S1'],['F4','S1'],['F4','S3'],['F5','S1']]\n",
    "\n",
    "compute_conditional_probabilites(A)"
   ]
  },
  {
   "cell_type": "markdown",
   "metadata": {
    "id": "n4HS87QmB-lF"
   },
   "source": [
    "<h3> Q9: Given two sentances S1, S2</h3>\n",
    "You will be given two sentances S1, S2 your task is to find \n",
    "<pre>\n",
    "a. Number of common words between S1, S2\n",
    "b. Words in S1 but not in S2\n",
    "c. Words in S2 but not in S1\n",
    "</pre>\n",
    "\n",
    "Ex: \n",
    "<pre>\n",
    "S1= \"the first column F will contain only 5 uniques values\"\n",
    "S2= \"the second column S will contain only 3 uniques values\"\n",
    "Output:\n",
    "a. 7\n",
    "b. ['first','F','5']\n",
    "c. ['second','S','3']\n",
    "</pre>"
   ]
  },
  {
   "cell_type": "code",
   "execution_count": null,
   "metadata": {
    "colab": {
     "base_uri": "https://localhost:8080/"
    },
    "id": "Ez7hlHK0B-lG",
    "outputId": "0fbae95b-b077-4794-8015-3b1911a5bab8"
   },
   "outputs": [
    {
     "name": "stdout",
     "output_type": "stream",
     "text": [
      "7\n",
      "['first', 'F', '5']\n",
      "['second', 'S', '3']\n"
     ]
    }
   ],
   "source": [
    "def string_features(S1, S2):\n",
    "    S1_list = S1.split() \n",
    "    S2_list = S2.split() \n",
    "    a =0; b=[]; c=[]\n",
    "    for ele in S1_list:\n",
    "        if(ele in S2_list):\n",
    "            a = a+1\n",
    "        else:\n",
    "            b.append(ele)\n",
    "    c = [ele for ele in S2_list if ele not in S1_list]\n",
    "    return a,b,c\n",
    "\n",
    "S1= \"the first column F will contain only 5 uniques values\"\n",
    "S2= \"the second column S will contain only 3 uniques values\"\n",
    "a,b,c = string_features(S1, S2)\n",
    "print(a)\n",
    "print(b)\n",
    "print(c)"
   ]
  },
  {
   "cell_type": "markdown",
   "metadata": {
    "id": "XefXVEjCB-lI"
   },
   "source": [
    "<h3> Q10: Given two sentances S1, S2</h3>\n",
    "You will be given a list of lists, each sublist will be of length 2 i.e. [[x,y],[p,q],[l,m]..[r,s]]\n",
    "consider its like a martrix of n rows and two columns\n",
    "\n",
    "a. the first column Y will contain interger values <br>\n",
    "b. the second column $Y_{score}$ will be having float values <br>\n",
    "Your task is to find the value of $f(Y,Y_{score}) = -1*\\frac{1}{n}\\Sigma_{for each Y,Y_{score} pair}(Ylog10(Y_{score})+(1-Y)log10(1-Y_{score}))$ here n is the number of rows in the matrix\n",
    "<pre>\n",
    "Ex:\n",
    "[[1, 0.4], [0, 0.5], [0, 0.9], [0, 0.3], [0, 0.6], [1, 0.1], [1, 0.9], [1, 0.8]]\n",
    "output:\n",
    "0.4243099\n",
    "</pre>\n",
    "$\\frac{-1}{8}\\cdot((1\\cdot log_{10}(0.4)+0\\cdot log_{10}(0.6))+(0\\cdot log_{10}(0.5)+1\\cdot log_{10}(0.5)) + ... + (1\\cdot log_{10}(0.8)+0\\cdot log_{10}(0.2)) )$"
   ]
  },
  {
   "cell_type": "code",
   "execution_count": null,
   "metadata": {
    "colab": {
     "base_uri": "https://localhost:8080/"
    },
    "id": "N9zkagyNB-lJ",
    "outputId": "1faa98e3-9726-4fd2-b018-4754f02e45db"
   },
   "outputs": [
    {
     "name": "stdout",
     "output_type": "stream",
     "text": [
      "0.42430993457031635\n"
     ]
    }
   ],
   "source": [
    "import math\n",
    "def compute_log_loss(A):\n",
    "    length = len(A)\n",
    "    log_sum = 0\n",
    "    for i in A:\n",
    "        log_sum += i[0]*math.log(i[1],10) + (1-i[0])*math.log(1-i[1],10)\n",
    "    loss = (-1/len(A)) * log_sum;\n",
    "    return loss\n",
    "\n",
    "A = [[1, 0.4], [0, 0.5], [0, 0.9], [0, 0.3], [0, 0.6], [1, 0.1], [1, 0.9], [1, 0.8]]\n",
    "loss = compute_log_loss(A)\n",
    "print(loss)"
   ]
  }
 ],
 "metadata": {
  "colab": {
   "collapsed_sections": [],
   "name": "Python Assignment.ipynb",
   "provenance": []
  },
  "kernelspec": {
   "display_name": "Python 3 (ipykernel)",
   "language": "python",
   "name": "python3"
  },
  "language_info": {
   "codemirror_mode": {
    "name": "ipython",
    "version": 3
   },
   "file_extension": ".py",
   "mimetype": "text/x-python",
   "name": "python",
   "nbconvert_exporter": "python",
   "pygments_lexer": "ipython3",
   "version": "3.9.7"
  }
 },
 "nbformat": 4,
 "nbformat_minor": 1
}
